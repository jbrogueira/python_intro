{
 "cells": [
  {
   "cell_type": "markdown",
   "metadata": {},
   "source": [
    "# Methods and Functions\n",
    "\n",
    "### [Introduction to Python, Nova SBE](https://github.com/jbrogueira/python_intro)\n",
    "\n",
    "**Author**: [João Brogueira de Sousa](https://jbsousa.com/)"
   ]
  },
  {
   "cell_type": "markdown",
   "metadata": {},
   "source": [
    "We have learned how to create variables holding different types data in Python. \n",
    "\n",
    "In this notebook we will learn how to use and create functions that operate on these data."
   ]
  },
  {
   "cell_type": "markdown",
   "metadata": {},
   "source": [
    "### Methods\n",
    "\n",
    "We will start by learning about Python *Methods*: \n",
    "\n",
    "Methods are special functions that are bound to objects of a particular data type.\n",
    "\n",
    "\n",
    "As an example, when we create an object of type `str`, there is a collection of methods available to operate on the values of this object."
   ]
  },
  {
   "cell_type": "code",
   "execution_count": 1,
   "metadata": {},
   "outputs": [],
   "source": [
    "s = 'Hello world!'"
   ]
  },
  {
   "cell_type": "code",
   "execution_count": 2,
   "metadata": {},
   "outputs": [
    {
     "data": {
      "text/plain": [
       "'HELLO WORLD!'"
      ]
     },
     "execution_count": 2,
     "metadata": {},
     "output_type": "execute_result"
    }
   ],
   "source": [
    "s.upper() # upper case to all characters in `s`"
   ]
  },
  {
   "cell_type": "markdown",
   "metadata": {},
   "source": [
    "Methods are usually called by placing a `.` after the variable, followed by the method name. Some can take additional arguments inside `()` after the method name, but often we can use them without arguments.\n",
    "\n",
    "A simple way to see the list of available methods for a given object is to write `.` after the variable name, and hit `TAB`: "
   ]
  },
  {
   "cell_type": "code",
   "execution_count": 3,
   "metadata": {},
   "outputs": [],
   "source": [
    "# s. # uncomment and press TAB after the `.`"
   ]
  },
  {
   "cell_type": "markdown",
   "metadata": {},
   "source": [
    "We can also create our own methods in Python. But for the standard Python data types, many are already available."
   ]
  },
  {
   "cell_type": "code",
   "execution_count": 4,
   "metadata": {},
   "outputs": [
    {
     "data": {
      "text/plain": [
       "['Hello', 'world!']"
      ]
     },
     "execution_count": 4,
     "metadata": {},
     "output_type": "execute_result"
    }
   ],
   "source": [
    "s.split()"
   ]
  },
  {
   "cell_type": "code",
   "execution_count": 5,
   "metadata": {},
   "outputs": [
    {
     "data": {
      "text/plain": [
       "'hello world!'"
      ]
     },
     "execution_count": 5,
     "metadata": {},
     "output_type": "execute_result"
    }
   ],
   "source": [
    "s.replace('H','h')"
   ]
  },
  {
   "cell_type": "markdown",
   "metadata": {},
   "source": [
    "What if you find a method in the list, but don't what it does?\n",
    "\n",
    "In Python, you can use `?` after a method or a function name to ask for help!\n",
    "\n",
    "Uncomment each of the two lines below and evaluate the code:"
   ]
  },
  {
   "cell_type": "code",
   "execution_count": 6,
   "metadata": {},
   "outputs": [],
   "source": [
    "# replace?"
   ]
  },
  {
   "cell_type": "code",
   "execution_count": 7,
   "metadata": {},
   "outputs": [],
   "source": [
    "# s.replace?"
   ]
  },
  {
   "cell_type": "markdown",
   "metadata": {},
   "source": [
    "Python will understand what you mean with this particular `replace` method, once it's bound to a `str` object."
   ]
  },
  {
   "cell_type": "markdown",
   "metadata": {},
   "source": [
    "### Functions\n",
    "\n",
    "Often we will need to create our own Python functions. \n",
    "\n",
    "We do it because once created, we can use them as many times as we need (even across different projects). We can also share it with others (and use functions created by other Python programmers). And they help keeping our Python programmes organized.\n",
    "\n",
    "The basic function definition in Python uses the keywords `def` and `return`:"
   ]
  },
  {
   "cell_type": "markdown",
   "metadata": {},
   "source": [
    "```python\n",
    "def function_name(input):\n",
    "    # step 1\n",
    "    # step 2\n",
    "    # ...\n",
    "    return output\n",
    "```"
   ]
  },
  {
   "cell_type": "markdown",
   "metadata": {},
   "source": [
    "The keyword `def` lets us define a function. \n",
    "\n",
    "The function name comes after `def`, in the case above is `function_name`.\n",
    "\n",
    "Inside the parentheses is the *parameter variable*, `(input)`. \n",
    "\n",
    "The last four lines form the *function body*. \n",
    "\n",
    "The `return` statement marks the end of the function. The function returns the result of the computation, the *return value* `output`. \n",
    "\n",
    "A function can return any type of object (including other functions!). \n",
    "\n",
    "It can have one or more `return` statements, or none. The function will return the *return* value that corresponds to the first *return statement* that is met during each execution. If the function does not contain a `return` value, Python returns the object `None` by default. \n",
    "\n",
    "Note: \n",
    "\n",
    "- `:` after the function name;\n",
    "- identation (four spaces) in the lines under `def` tell Python this is the function body.\n",
    "\n",
    "Let's see an example:"
   ]
  },
  {
   "cell_type": "code",
   "execution_count": 8,
   "metadata": {},
   "outputs": [],
   "source": [
    "def mean(values):\n",
    "    total = sum(values) # uses a core Python function `sum`\n",
    "    N = len(values) # uses a core Python function `len`\n",
    "    output = total / N\n",
    "    return output"
   ]
  },
  {
   "cell_type": "code",
   "execution_count": 9,
   "metadata": {},
   "outputs": [
    {
     "name": "stdout",
     "output_type": "stream",
     "text": [
      "2.0\n"
     ]
    }
   ],
   "source": [
    "x = [1, 2, 3]\n",
    "mean_x = mean(x)\n",
    "print(mean_x)"
   ]
  },
  {
   "cell_type": "markdown",
   "metadata": {},
   "source": [
    "A function can have multiple arguments, and a Python program can have multiple functions. "
   ]
  },
  {
   "cell_type": "code",
   "execution_count": 10,
   "metadata": {},
   "outputs": [],
   "source": [
    "def square(x):\n",
    "    return x * x\n",
    "\n",
    "def hypot(a, b):\n",
    "    return (square(a) + square(b)) ** 0.50"
   ]
  },
  {
   "cell_type": "code",
   "execution_count": 11,
   "metadata": {},
   "outputs": [
    {
     "data": {
      "text/plain": [
       "1.4142135623730951"
      ]
     },
     "execution_count": 11,
     "metadata": {},
     "output_type": "execute_result"
    }
   ],
   "source": [
    "hypot(1,1)"
   ]
  },
  {
   "cell_type": "markdown",
   "metadata": {},
   "source": [
    "What matters is that all functions are defined in the code *before* they are called. \n",
    "\n",
    "This is the reason why usually a Python program contains (1) `import` statements (more on these later), (2) function definitions, and (3) code that uses functions, *in this order*. "
   ]
  },
  {
   "cell_type": "markdown",
   "metadata": {},
   "source": [
    "We can also use optional function arguments by assigning a *default value* for an argument:"
   ]
  },
  {
   "cell_type": "code",
   "execution_count": 12,
   "metadata": {},
   "outputs": [],
   "source": [
    "def g(x, a = 1, b = 1):\n",
    "    return a + b * x"
   ]
  },
  {
   "cell_type": "code",
   "execution_count": 13,
   "metadata": {},
   "outputs": [
    {
     "data": {
      "text/plain": [
       "3"
      ]
     },
     "execution_count": 13,
     "metadata": {},
     "output_type": "execute_result"
    }
   ],
   "source": [
    "g(2)"
   ]
  },
  {
   "cell_type": "code",
   "execution_count": 14,
   "metadata": {},
   "outputs": [
    {
     "data": {
      "text/plain": [
       "14"
      ]
     },
     "execution_count": 14,
     "metadata": {},
     "output_type": "execute_result"
    }
   ],
   "source": [
    "g(2, a = 4, b = 5)"
   ]
  },
  {
   "cell_type": "markdown",
   "metadata": {},
   "source": [
    "#### Docstrings\n",
    "\n",
    "We saw that by using `?` after a method name we could access some information about that method. \n",
    "\n",
    "It works the same with the more general Python functions.\n",
    "\n",
    "We've used `sum` and `len` above. Let's try:"
   ]
  },
  {
   "cell_type": "code",
   "execution_count": 15,
   "metadata": {},
   "outputs": [
    {
     "data": {
      "text/plain": [
       "\u001b[31mSignature:\u001b[39m len(obj, /)\n",
       "\u001b[31mDocstring:\u001b[39m Return the number of items in a container.\n",
       "\u001b[31mType:\u001b[39m      builtin_function_or_method"
      ]
     },
     "metadata": {},
     "output_type": "display_data"
    }
   ],
   "source": [
    "len?"
   ]
  },
  {
   "cell_type": "code",
   "execution_count": 16,
   "metadata": {},
   "outputs": [
    {
     "data": {
      "text/plain": [
       "\u001b[31mSignature:\u001b[39m sum(iterable, /, start=\u001b[32m0\u001b[39m)\n",
       "\u001b[31mDocstring:\u001b[39m\n",
       "Return the sum of a 'start' value (default: 0) plus an iterable of numbers\n",
       "\n",
       "When the iterable is empty, return the start value.\n",
       "This function is intended specifically for use with numeric values and may\n",
       "reject non-numeric types.\n",
       "\u001b[31mType:\u001b[39m      builtin_function_or_method"
      ]
     },
     "metadata": {},
     "output_type": "display_data"
    }
   ],
   "source": [
    "sum?"
   ]
  },
  {
   "cell_type": "markdown",
   "metadata": {},
   "source": [
    "But what happens with the functions we have just defined above?"
   ]
  },
  {
   "cell_type": "code",
   "execution_count": 17,
   "metadata": {},
   "outputs": [
    {
     "data": {
      "text/plain": [
       "\u001b[31mSignature:\u001b[39m square(x)\n",
       "\u001b[31mDocstring:\u001b[39m <no docstring>\n",
       "\u001b[31mFile:\u001b[39m      /var/folders/pv/h0n0kl910_s6gt9d3jg1y6480000gn/T/ipykernel_17186/3261602069.py\n",
       "\u001b[31mType:\u001b[39m      function"
      ]
     },
     "metadata": {},
     "output_type": "display_data"
    }
   ],
   "source": [
    "square?"
   ]
  },
  {
   "cell_type": "markdown",
   "metadata": {},
   "source": [
    "You can see that Python will tell it's a `function` type. But no useful information about what it does.\n",
    "\n",
    "We can add this information by using *Docstrings*. "
   ]
  },
  {
   "cell_type": "code",
   "execution_count": 18,
   "metadata": {},
   "outputs": [],
   "source": [
    "def square(x):\n",
    "    \"\"\" \n",
    "    This function squares its argument.\n",
    "    \"\"\"\n",
    "    return x*x"
   ]
  },
  {
   "cell_type": "code",
   "execution_count": 19,
   "metadata": {},
   "outputs": [
    {
     "data": {
      "text/plain": [
       "\u001b[31mSignature:\u001b[39m square(x)\n",
       "\u001b[31mDocstring:\u001b[39m This function squares its argument.\n",
       "\u001b[31mFile:\u001b[39m      /var/folders/pv/h0n0kl910_s6gt9d3jg1y6480000gn/T/ipykernel_17186/1726209540.py\n",
       "\u001b[31mType:\u001b[39m      function"
      ]
     },
     "metadata": {},
     "output_type": "display_data"
    }
   ],
   "source": [
    "square?"
   ]
  },
  {
   "cell_type": "markdown",
   "metadata": {},
   "source": [
    "This system allows to document any function by describing its purpose, parameter values and return objects. It's good practise to document all function we create, so that we remember what its purpose and other users can understand how to use it. "
   ]
  },
  {
   "cell_type": "markdown",
   "metadata": {},
   "source": [
    "#### Variable Scope\n",
    "\n",
    "Note that when we defined the function `mean` above, we used variable `values` to denote its input, and in the function body we stored the result in the variable `output`. \n",
    "\n",
    "But when we used the function, we passed as argument the list `x` and stored the resulting mean of `x` in variable `mean_x`.\n",
    "\n",
    "What is the difference between these objects?\n",
    "\n",
    "The scope of a variable is the universe of statements in the Python program that can refer to that variable directly. \n",
    "\n",
    "The scope of a function's *parameter variables* and *local variables* (variables declared inside the function's body) is limited to *that same function*. \n",
    "\n",
    "In the example with function `mean` (repeated below), the variables `values`, `total`, `N`, and `output`, \"live\" only inside that function. \n",
    "\n",
    "`values` are parameter variables, while `total`, `N` and `output` are local variables. \n",
    "\n",
    "The only difference between parameter variables and local variables is that Python initializes the parameter variable with the corresponding argument provided by the calling statement (above, the object `x`). "
   ]
  },
  {
   "cell_type": "code",
   "execution_count": 20,
   "metadata": {},
   "outputs": [],
   "source": [
    "def mean(values):\n",
    "    total = sum(values) # uses a core Python function `sum`\n",
    "    N = len(values) # uses a core Python function `len`\n",
    "    output = total / N\n",
    "    return output"
   ]
  },
  {
   "cell_type": "code",
   "execution_count": 21,
   "metadata": {},
   "outputs": [],
   "source": [
    "x = [1, 2, 3]\n",
    "mean_x = mean(x)"
   ]
  },
  {
   "cell_type": "code",
   "execution_count": 22,
   "metadata": {},
   "outputs": [
    {
     "name": "stdout",
     "output_type": "stream",
     "text": [
      "2.0\n"
     ]
    }
   ],
   "source": [
    "print(mean_x)"
   ]
  },
  {
   "cell_type": "code",
   "execution_count": 23,
   "metadata": {},
   "outputs": [],
   "source": [
    "# print(output) # uncomment and evaluate this cell"
   ]
  },
  {
   "cell_type": "markdown",
   "metadata": {},
   "source": [
    "We need to pay extra attention to variable scope when a function may *change* an object we pass as parameter.\n",
    "\n",
    "If a parameter variable refers to a *mutable* object and we change that object value inside the function, then this also changes the object value outside that function. \n",
    "\n",
    "**When we pass arguments to a function, the arguments and the function's parameter variables become aliases.**\n",
    "\n",
    "We should remember the implications of this and the fact that, in Python: \n",
    "\n",
    "- `int`, `float`, `bool`, `str` and `tuple` are all *immutable* data-types \n",
    "\n",
    "- `list` (that we have used before) are *mutable*\n",
    "\n",
    "Let's see this difference in action.\n",
    "\n",
    "Suppose we want a function that increments an integer by 1."
   ]
  },
  {
   "cell_type": "code",
   "execution_count": 24,
   "metadata": {},
   "outputs": [],
   "source": [
    "def inc(j):\n",
    "    j += 1"
   ]
  },
  {
   "cell_type": "code",
   "execution_count": 25,
   "metadata": {},
   "outputs": [
    {
     "name": "stdout",
     "output_type": "stream",
     "text": [
      "99\n"
     ]
    }
   ],
   "source": [
    "i = 99 # assigns variable `i` to a `int` object with value 99.\n",
    "inc(i) # call function `inc` with parameter variable `i`\n",
    "print(i)"
   ]
  },
  {
   "cell_type": "markdown",
   "metadata": {},
   "source": [
    "Since the scope of `j` is the function `inc`, after the function evaluation, the parameter variable `j` goes out of scope (we cannot access it outside the function), and the variable `i` still points to the same `int` object with value 99.\n",
    "\n",
    "How could we fix that, so that we actually perform an increment of 1 with the function?"
   ]
  },
  {
   "cell_type": "code",
   "execution_count": 26,
   "metadata": {},
   "outputs": [],
   "source": [
    "# code here"
   ]
  },
  {
   "cell_type": "markdown",
   "metadata": {},
   "source": [
    "In contrast, and as we have seen, lists are *mutable* objects. Therefore, by passing a `list` object as parameter variable to a function, we can change the values of that object inside the function!"
   ]
  },
  {
   "cell_type": "code",
   "execution_count": 27,
   "metadata": {},
   "outputs": [],
   "source": [
    "def exchange(a, i, j):\n",
    "    temp = a[i]\n",
    "    a[i] = a[j]\n",
    "    a[j] = temp"
   ]
  },
  {
   "cell_type": "code",
   "execution_count": 28,
   "metadata": {},
   "outputs": [],
   "source": [
    "x = [1, 2, 3] # a mutable `list`\n",
    "exchange(x, 0, 2) # call function `exchange` passing as argument object `x`"
   ]
  },
  {
   "cell_type": "code",
   "execution_count": 29,
   "metadata": {},
   "outputs": [
    {
     "data": {
      "text/plain": [
       "[3, 2, 1]"
      ]
     },
     "execution_count": 29,
     "metadata": {},
     "output_type": "execute_result"
    }
   ],
   "source": [
    "x"
   ]
  },
  {
   "cell_type": "markdown",
   "metadata": {},
   "source": [
    "Note that we don't need to `return` the result of function `exchange` to have an effect on the values of `x`. Because `x` is a mutable object, by passing the reference `x` as parameter variable of that function, `exchange` will operate on the values of `x`, and produce changes that we can access outside the function body."
   ]
  },
  {
   "cell_type": "markdown",
   "metadata": {},
   "source": [
    "### Modules\n",
    "\n",
    "For large projects that involve many functions, we can organize them in different files instead of having all the function `def` on the same .py file (or Notebook).\n",
    "\n",
    "This can be done with Modules.\n",
    "\n",
    "It has many advantages, such as the possibility to use the same function modules across different projects.\n",
    "\n",
    "We can write our own modules, or we can use any of the Python modules available.\n",
    "\n",
    "We only need to import them before we call a function that is defined in that module."
   ]
  },
  {
   "cell_type": "code",
   "execution_count": 30,
   "metadata": {},
   "outputs": [],
   "source": [
    "import math"
   ]
  },
  {
   "cell_type": "code",
   "execution_count": 31,
   "metadata": {},
   "outputs": [
    {
     "data": {
      "text/plain": [
       "\u001b[31mType:\u001b[39m        module\n",
       "\u001b[31mString form:\u001b[39m <module 'math' from '/opt/homebrew/Caskroom/miniconda/base/lib/python3.13/lib-dynload/math.cpython-313-darwin.so'>\n",
       "\u001b[31mFile:\u001b[39m        /opt/homebrew/Caskroom/miniconda/base/lib/python3.13/lib-dynload/math.cpython-313-darwin.so\n",
       "\u001b[31mDocstring:\u001b[39m  \n",
       "This module provides access to the mathematical functions\n",
       "defined by the C standard."
      ]
     },
     "metadata": {},
     "output_type": "display_data"
    }
   ],
   "source": [
    "math?"
   ]
  },
  {
   "cell_type": "code",
   "execution_count": 32,
   "metadata": {},
   "outputs": [
    {
     "data": {
      "text/plain": [
       "1.4142135623730951"
      ]
     },
     "execution_count": 32,
     "metadata": {},
     "output_type": "execute_result"
    }
   ],
   "source": [
    "math.sqrt(2) # `sqrt` (square root) function is available in module `math`"
   ]
  },
  {
   "cell_type": "markdown",
   "metadata": {},
   "source": [
    "Above, `math` is a module (which contains useful math functions) and `sqrt` is the square root function. We call it by placing a dot in front of the module name, followed by the function name.\n",
    "\n",
    "Alternatively, we can import it and given it a different name."
   ]
  },
  {
   "cell_type": "code",
   "execution_count": 33,
   "metadata": {},
   "outputs": [
    {
     "data": {
      "text/plain": [
       "1.4142135623730951"
      ]
     },
     "execution_count": 33,
     "metadata": {},
     "output_type": "execute_result"
    }
   ],
   "source": [
    "import math as mt\n",
    "\n",
    "mt.sqrt(2)"
   ]
  },
  {
   "cell_type": "markdown",
   "metadata": {},
   "source": [
    "And we can import only a specific function from a module:"
   ]
  },
  {
   "cell_type": "code",
   "execution_count": 34,
   "metadata": {},
   "outputs": [
    {
     "data": {
      "text/plain": [
       "1.4142135623730951"
      ]
     },
     "execution_count": 34,
     "metadata": {},
     "output_type": "execute_result"
    }
   ],
   "source": [
    "from math import sqrt\n",
    "\n",
    "sqrt(2)"
   ]
  },
  {
   "cell_type": "markdown",
   "metadata": {},
   "source": [
    "Additionally, Modules can be organized in **Libraries**.\n",
    "\n",
    "An example is [Numpy](https://numpy.org/), a widely used library for scientific programming.\n",
    "\n",
    "It is useful due to its fast array processing and many mathematical functions available to operate on those arrays."
   ]
  },
  {
   "cell_type": "code",
   "execution_count": 35,
   "metadata": {},
   "outputs": [],
   "source": [
    "from numpy import random # `random` is a module with functions that generate random variables from the `numpy` library"
   ]
  },
  {
   "cell_type": "code",
   "execution_count": 36,
   "metadata": {},
   "outputs": [
    {
     "data": {
      "text/plain": [
       "\u001b[31mType:\u001b[39m        module\n",
       "\u001b[31mString form:\u001b[39m <module 'numpy.random' from '/opt/homebrew/Caskroom/miniconda/base/lib/python3.13/site-packages/numpy/random/__init__.py'>\n",
       "\u001b[31mFile:\u001b[39m        /opt/homebrew/Caskroom/miniconda/base/lib/python3.13/site-packages/numpy/random/__init__.py\n",
       "\u001b[31mDocstring:\u001b[39m  \n",
       "========================\n",
       "Random Number Generation\n",
       "========================\n",
       "\n",
       "Use ``default_rng()`` to create a `Generator` and call its methods.\n",
       "\n",
       "=============== =========================================================\n",
       "Generator\n",
       "--------------- ---------------------------------------------------------\n",
       "Generator       Class implementing all of the random number distributions\n",
       "default_rng     Default constructor for ``Generator``\n",
       "=============== =========================================================\n",
       "\n",
       "============================================= ===\n",
       "BitGenerator Streams that work with Generator\n",
       "--------------------------------------------- ---\n",
       "MT19937\n",
       "PCG64\n",
       "PCG64DXSM\n",
       "Philox\n",
       "SFC64\n",
       "============================================= ===\n",
       "\n",
       "============================================= ===\n",
       "Getting entropy to initialize a BitGenerator\n",
       "--------------------------------------------- ---\n",
       "SeedSequence\n",
       "============================================= ===\n",
       "\n",
       "\n",
       "Legacy\n",
       "------\n",
       "\n",
       "For backwards compatibility with previous versions of numpy before 1.17, the\n",
       "various aliases to the global `RandomState` methods are left alone and do not\n",
       "use the new `Generator` API.\n",
       "\n",
       "==================== =========================================================\n",
       "Utility functions\n",
       "-------------------- ---------------------------------------------------------\n",
       "random               Uniformly distributed floats over ``[0, 1)``\n",
       "bytes                Uniformly distributed random bytes.\n",
       "permutation          Randomly permute a sequence / generate a random sequence.\n",
       "shuffle              Randomly permute a sequence in place.\n",
       "choice               Random sample from 1-D array.\n",
       "==================== =========================================================\n",
       "\n",
       "==================== =========================================================\n",
       "Compatibility\n",
       "functions - removed\n",
       "in the new API\n",
       "-------------------- ---------------------------------------------------------\n",
       "rand                 Uniformly distributed values.\n",
       "randn                Normally distributed values.\n",
       "ranf                 Uniformly distributed floating point numbers.\n",
       "random_integers      Uniformly distributed integers in a given range.\n",
       "                     (deprecated, use ``integers(..., closed=True)`` instead)\n",
       "random_sample        Alias for `random_sample`\n",
       "randint              Uniformly distributed integers in a given range\n",
       "seed                 Seed the legacy random number generator.\n",
       "==================== =========================================================\n",
       "\n",
       "==================== =========================================================\n",
       "Univariate\n",
       "distributions\n",
       "-------------------- ---------------------------------------------------------\n",
       "beta                 Beta distribution over ``[0, 1]``.\n",
       "binomial             Binomial distribution.\n",
       "chisquare            :math:`\\chi^2` distribution.\n",
       "exponential          Exponential distribution.\n",
       "f                    F (Fisher-Snedecor) distribution.\n",
       "gamma                Gamma distribution.\n",
       "geometric            Geometric distribution.\n",
       "gumbel               Gumbel distribution.\n",
       "hypergeometric       Hypergeometric distribution.\n",
       "laplace              Laplace distribution.\n",
       "logistic             Logistic distribution.\n",
       "lognormal            Log-normal distribution.\n",
       "logseries            Logarithmic series distribution.\n",
       "negative_binomial    Negative binomial distribution.\n",
       "noncentral_chisquare Non-central chi-square distribution.\n",
       "noncentral_f         Non-central F distribution.\n",
       "normal               Normal / Gaussian distribution.\n",
       "pareto               Pareto distribution.\n",
       "poisson              Poisson distribution.\n",
       "power                Power distribution.\n",
       "rayleigh             Rayleigh distribution.\n",
       "triangular           Triangular distribution.\n",
       "uniform              Uniform distribution.\n",
       "vonmises             Von Mises circular distribution.\n",
       "wald                 Wald (inverse Gaussian) distribution.\n",
       "weibull              Weibull distribution.\n",
       "zipf                 Zipf's distribution over ranked data.\n",
       "==================== =========================================================\n",
       "\n",
       "==================== ==========================================================\n",
       "Multivariate\n",
       "distributions\n",
       "-------------------- ----------------------------------------------------------\n",
       "dirichlet            Multivariate generalization of Beta distribution.\n",
       "multinomial          Multivariate generalization of the binomial distribution.\n",
       "multivariate_normal  Multivariate generalization of the normal distribution.\n",
       "==================== ==========================================================\n",
       "\n",
       "==================== =========================================================\n",
       "Standard\n",
       "distributions\n",
       "-------------------- ---------------------------------------------------------\n",
       "standard_cauchy      Standard Cauchy-Lorentz distribution.\n",
       "standard_exponential Standard exponential distribution.\n",
       "standard_gamma       Standard Gamma distribution.\n",
       "standard_normal      Standard normal distribution.\n",
       "standard_t           Standard Student's t-distribution.\n",
       "==================== =========================================================\n",
       "\n",
       "==================== =========================================================\n",
       "Internal functions\n",
       "-------------------- ---------------------------------------------------------\n",
       "get_state            Get tuple representing internal state of generator.\n",
       "set_state            Set state of generator.\n",
       "==================== ========================================================="
      ]
     },
     "metadata": {},
     "output_type": "display_data"
    }
   ],
   "source": [
    "random?"
   ]
  },
  {
   "cell_type": "code",
   "execution_count": 37,
   "metadata": {},
   "outputs": [
    {
     "data": {
      "text/plain": [
       "np.float64(0.4748303316412109)"
      ]
     },
     "execution_count": 37,
     "metadata": {},
     "output_type": "execute_result"
    }
   ],
   "source": [
    "import numpy as np\n",
    "\n",
    "x = np.random.uniform(0, 1, size=100) # produces an object of type Numpy array with 100 U(0,1) random draws\n",
    "x.mean() # a method that computes the mean of `x`"
   ]
  },
  {
   "cell_type": "code",
   "execution_count": 38,
   "metadata": {},
   "outputs": [
    {
     "data": {
      "text/plain": [
       "numpy.ndarray"
      ]
     },
     "execution_count": 38,
     "metadata": {},
     "output_type": "execute_result"
    }
   ],
   "source": [
    "type(x)"
   ]
  },
  {
   "cell_type": "markdown",
   "metadata": {},
   "source": [
    "#### Conditionals and Loops\n",
    "\n",
    "Often times, we want our Python functions to be flexible enough so that they perform different actions depending on the values of given variables.\n",
    "\n",
    "One simple way to express these differences is with an `if` statement."
   ]
  },
  {
   "cell_type": "code",
   "execution_count": 39,
   "metadata": {},
   "outputs": [],
   "source": [
    "x = 1\n",
    "if not x == 0: # alternatively we could also write `x != 0`\n",
    "    x = 0"
   ]
  },
  {
   "cell_type": "markdown",
   "metadata": {},
   "source": [
    "The code above performs the following action: if the value of `x` is different from 0, it changes `x` to refer to a new object whose value zero."
   ]
  },
  {
   "cell_type": "code",
   "execution_count": 40,
   "metadata": {},
   "outputs": [
    {
     "name": "stdout",
     "output_type": "stream",
     "text": [
      "0\n"
     ]
    }
   ],
   "source": [
    "print(x)"
   ]
  },
  {
   "cell_type": "markdown",
   "metadata": {},
   "source": [
    "We can add an `else` clause to an `if` statement, to perform a given action in case the if clause is `False`:"
   ]
  },
  {
   "cell_type": "code",
   "execution_count": 41,
   "metadata": {},
   "outputs": [],
   "source": [
    "x, y = 0, 0  # we can create two variables on the same line by using ','\n",
    "\n",
    "if x == 0:\n",
    "    y = 1\n",
    "else:\n",
    "    y = 0"
   ]
  },
  {
   "cell_type": "code",
   "execution_count": 42,
   "metadata": {},
   "outputs": [
    {
     "name": "stdout",
     "output_type": "stream",
     "text": [
      "1\n"
     ]
    }
   ],
   "source": [
    "print(y)"
   ]
  },
  {
   "cell_type": "markdown",
   "metadata": {},
   "source": [
    "#### Loops\n",
    "\n",
    "Many of the actions we require our programs to perform are repetitive. \n",
    "\n",
    "We may want our program to perform *as long as* a certain condition is `True`.\n",
    "\n",
    "We can use a `while` construct to handle such cases:"
   ]
  },
  {
   "cell_type": "code",
   "execution_count": 43,
   "metadata": {},
   "outputs": [
    {
     "name": "stdout",
     "output_type": "stream",
     "text": [
      "4th Hello\n",
      "5th Hello\n",
      "6th Hello\n",
      "7th Hello\n",
      "8th Hello\n"
     ]
    }
   ],
   "source": [
    "i = 4\n",
    "while i <= 8:\n",
    "    print(str(i) + 'th Hello') # 'print' is a built-in Python function that prints a value on screen\n",
    "    i = i + 1"
   ]
  },
  {
   "cell_type": "markdown",
   "metadata": {},
   "source": [
    "Alternatively, we can use a `for` statement to achieve the same output. \n",
    "\n",
    "Using `for` often leads to more compact and readable programs than if we used `while` loops."
   ]
  },
  {
   "cell_type": "code",
   "execution_count": 44,
   "metadata": {},
   "outputs": [
    {
     "name": "stdout",
     "output_type": "stream",
     "text": [
      "4th Hello\n",
      "5th Hello\n",
      "6th Hello\n",
      "7th Hello\n",
      "8th Hello\n"
     ]
    }
   ],
   "source": [
    "i_vals = [4, 5, 6, 7, 8]\n",
    "for i in i_vals:\n",
    "    print(str(i) + 'th Hello')"
   ]
  },
  {
   "cell_type": "markdown",
   "metadata": {},
   "source": [
    "Another built-in function that is handy in loops is `range`."
   ]
  },
  {
   "cell_type": "code",
   "execution_count": 45,
   "metadata": {},
   "outputs": [
    {
     "name": "stdout",
     "output_type": "stream",
     "text": [
      "4th Hello\n",
      "5th Hello\n",
      "6th Hello\n",
      "7th Hello\n",
      "8th Hello\n"
     ]
    }
   ],
   "source": [
    "for i in range(4,9): # 'range' is another Python built-in function that returns a range iterator object\n",
    "    print(str(i) + 'th Hello')"
   ]
  },
  {
   "cell_type": "markdown",
   "metadata": {},
   "source": [
    "Although it looks like a function (we call it using arguments inside `()`), `range` is actually another Python data type. "
   ]
  },
  {
   "cell_type": "code",
   "execution_count": 46,
   "metadata": {},
   "outputs": [
    {
     "data": {
      "text/plain": [
       "range"
      ]
     },
     "execution_count": 46,
     "metadata": {},
     "output_type": "execute_result"
    }
   ],
   "source": [
    "type(range(4,9))"
   ]
  },
  {
   "cell_type": "code",
   "execution_count": 47,
   "metadata": {},
   "outputs": [
    {
     "data": {
      "text/plain": [
       "[4, 5, 6, 7, 8]"
      ]
     },
     "execution_count": 47,
     "metadata": {},
     "output_type": "execute_result"
    }
   ],
   "source": [
    "list(range(4,9)) # evaluates a `range` object and converts to a list"
   ]
  },
  {
   "cell_type": "code",
   "execution_count": 48,
   "metadata": {},
   "outputs": [
    {
     "data": {
      "text/plain": [
       "[0, 1, 2, 3, 4, 5, 6, 7, 8]"
      ]
     },
     "execution_count": 48,
     "metadata": {},
     "output_type": "execute_result"
    }
   ],
   "source": [
    "list(range(9))"
   ]
  },
  {
   "cell_type": "markdown",
   "metadata": {},
   "source": [
    "There is one important detail we must remember. \n",
    "\n",
    "In Python, we mark the end of an `if` or loop `for` or `while` with **identation**. \n",
    "\n",
    "The convention is to use 4 spaces."
   ]
  },
  {
   "cell_type": "code",
   "execution_count": 49,
   "metadata": {},
   "outputs": [
    {
     "name": "stdout",
     "output_type": "stream",
     "text": [
      "evaluation 1\n",
      "end!\n",
      "evaluation 2\n",
      "end!\n",
      "evaluation 3\n",
      "end!\n"
     ]
    }
   ],
   "source": [
    "for i in range(1,4): \n",
    "    print('evaluation ' + str(i)) # `str()` converts its argument to a `string` object\n",
    "    print('end!') # this line is inside the `for`"
   ]
  },
  {
   "cell_type": "code",
   "execution_count": 50,
   "metadata": {},
   "outputs": [
    {
     "name": "stdout",
     "output_type": "stream",
     "text": [
      "evaluation 1\n",
      "evaluation 2\n",
      "evaluation 3\n",
      "end!\n"
     ]
    }
   ],
   "source": [
    "for i in range(1,4): \n",
    "    print('evaluation ' + str(i))\n",
    "print('end!') # this line is outside the `for`"
   ]
  },
  {
   "cell_type": "markdown",
   "metadata": {},
   "source": [
    "## Exercises"
   ]
  },
  {
   "cell_type": "markdown",
   "metadata": {},
   "source": [
    "### Exercise 1\n",
    "\n",
    "Consider the polynomial\n",
    "\n",
    "\n",
    "<a id='equation-polynom0'></a>\n",
    "$$\n",
    "p(x)\n",
    "= a_0 + a_1 x + a_2 x^2 + \\cdots a_n x^n\n",
    "= \\sum_{i=0}^n a_i x^i \\tag{1}\n",
    "$$\n",
    "\n",
    "Write a function `p` such that `p(x, coeff)` computes the value in [(1)](#equation-polynom0) given a point `x` and a list of coefficients `coeff`.\n",
    "\n",
    "Try to use `enumerate()`.\n",
    "\n",
    "\n",
    "<a id='pyfunc-ex1'></a>"
   ]
  },
  {
   "cell_type": "markdown",
   "metadata": {},
   "source": [
    "### Exercise 2\n",
    "\n",
    "Write a function that takes a `string` as an argument and returns the number of capital letters in the `string`.\n",
    "\n",
    "Hint: `'foo'.upper()` returns `'FOO'`\n",
    "\n",
    "\n",
    "<a id='pyfunc-ex2'></a>"
   ]
  },
  {
   "cell_type": "markdown",
   "metadata": {},
   "source": [
    "### Exercise 3\n",
    "\n",
    "Write a function that takes two sequences `seq_a` and `seq_b` as arguments and returns `True` if every element in `seq_a` is also an element of `seq_b`, else `False`.\n",
    "\n",
    "By “sequence” we mean a `list`, a `tuple` or a `string`.\n",
    "Do the exercise without using sets and set methods."
   ]
  },
  {
   "cell_type": "markdown",
   "metadata": {},
   "source": [
    "Note: this exercises are taken from [Python Essentials](https://python.quantecon.org/python_essentials.html) lecture on [quantecon.org](https://quantecon.org). You can find more exercises at the end of the lecture."
   ]
  }
 ],
 "metadata": {
  "kernelspec": {
   "display_name": "Python 3 (ipykernel)",
   "language": "python",
   "name": "python3"
  },
  "language_info": {
   "codemirror_mode": {
    "name": "ipython",
    "version": 3
   },
   "file_extension": ".py",
   "mimetype": "text/x-python",
   "name": "python",
   "nbconvert_exporter": "python",
   "pygments_lexer": "ipython3",
   "version": "3.13.2"
  }
 },
 "nbformat": 4,
 "nbformat_minor": 4
}
