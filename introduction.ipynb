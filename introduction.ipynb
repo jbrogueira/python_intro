{
 "cells": [
  {
   "cell_type": "markdown",
   "metadata": {
    "slideshow": {
     "slide_type": "slide"
    }
   },
   "source": [
    "# Python for Finance 2020\n",
    "\n",
    "### MSc in Finance, Universidade Católica Portuguesa\n",
    "\n",
    "Instructor: João Brogueira de Sousa [jbsousa@ucp.pt]"
   ]
  },
  {
   "cell_type": "markdown",
   "metadata": {
    "slideshow": {
     "slide_type": "slide"
    }
   },
   "source": [
    "## Introduction\n",
    "\n",
    "Welcome to the first session of *PyFin 2020* at Católica!"
   ]
  },
  {
   "cell_type": "markdown",
   "metadata": {
    "slideshow": {
     "slide_type": "subslide"
    }
   },
   "source": [
    "### Outcomes\n",
    "\n",
    "At the end of the course, you will be able to use Python to handle and analyse data, and to share your work to colleagues, professors and future employers! \n",
    "\n",
    "In the beginning it will take time and effort to learn it (that's why we are here!). But once you master a few basis aspects, you will be able to work much more productively. You can then analyse, visualize, share and present your work - all within the same Python environment."
   ]
  },
  {
   "cell_type": "markdown",
   "metadata": {
    "slideshow": {
     "slide_type": "slide"
    }
   },
   "source": [
    "### Structure\n",
    "\n",
    "We will meet in room 504, twice per week:\n",
    "\n",
    "- Monday 17:00 - 18:20\n",
    "- Wednesday 8:00 - 9:20"
   ]
  },
  {
   "cell_type": "markdown",
   "metadata": {
    "slideshow": {
     "slide_type": "subslide"
    }
   },
   "source": [
    "During the meetings, I will introduce you to (tentative calendar):\n",
    "\n",
    "1. The Python programming language (week 1):\n",
    "    - What is Python;\n",
    "    - What for, and why is it widely used;\n",
    "    - How can we access (install) Python - the Anaconda distribution;\n",
    "    - How can we use Python (command window, *.py* files, Jupyter notebooks).\n",
    "2. Python fundamentals (week 1-3):\n",
    "    - Assignment statements (`x = 1.0`);\n",
    "    - Data types, Operators;\n",
    "    - Control flow (conditionals, loops);\n",
    "    - Python functions, modules and libraries;\n",
    "    - Read and write operations.\n",
    "3. Working with data (week 4):\n",
    "    - Handling data with `numpy`;\n",
    "    - Visualization with `matplotlib`;\n",
    "    - Data Analysis with `pandas`.\n",
    "4. Applications in Finance (week 4-5).\n",
    "5. Final Project (week 6)."
   ]
  },
  {
   "cell_type": "markdown",
   "metadata": {
    "slideshow": {
     "slide_type": "slide"
    }
   },
   "source": [
    "### Requirements\n",
    "\n",
    "- Participate in the classroom sessions\n",
    "- Pratice working with Python independently \n",
    "    - As much as you can! It is impossible to learn it without trying (and failing a few times)\n",
    "    - Try doing things you are used to do with a pocket calculator, Excel, etc., with Python\n",
    "    - Solve the suggested exercises after each class\n",
    "- Group assignments and final project\n",
    "- Exam "
   ]
  },
  {
   "cell_type": "markdown",
   "metadata": {
    "slideshow": {
     "slide_type": "subslide"
    }
   },
   "source": [
    "#### Grading \n",
    "\n",
    "The final grade will be the nearest integer of the weighted average, with each component rounded to two decimal cases, of:\n",
    "\n",
    "- Assignments: 30%\n",
    "    - Exact timing will depend on course progression\n",
    "    - Initial plan: #1 at the end of 2nd week, #2 at the end of 4th week\n",
    "- Final project: 40%\n",
    "    - Guidelines will be provided well in advance\n",
    "    - Deadline: one week prior to the Exam\n",
    "- Exam: 30%\n",
    "    - Minimum passing grade of 9/20\n",
    "    - Date: 18 March 2020\n",
    "    \n",
    "Note: Assignments and final project can be done in groups of 3. Exam is strictly individual."
   ]
  },
  {
   "cell_type": "markdown",
   "metadata": {
    "slideshow": {
     "slide_type": "slide"
    }
   },
   "source": [
    "### Other information\n",
    "\n",
    "- You are encoraged to work in groups to share and leverage on each others experience.\n",
    "- There is a moodle forum that you can use for discussion about Python.\n",
    "- There are thousands of references online about Python:\n",
    "    - use Python's official [documentation](https://www.python.org/doc/)\n",
    "    - The [QuantEcon](https://quantecon.org) project has in my opinion the best lectures and code. Check the [Data Science](https://datascience.quantecon.org/) course.\n",
    "- You should write me an email anytime you get stuck or have any question about the course."
   ]
  }
 ],
 "metadata": {
  "kernelspec": {
   "display_name": "Python 3",
   "language": "python",
   "name": "python3"
  },
  "language_info": {
   "codemirror_mode": {
    "name": "ipython",
    "version": 3
   },
   "file_extension": ".py",
   "mimetype": "text/x-python",
   "name": "python",
   "nbconvert_exporter": "python",
   "pygments_lexer": "ipython3",
   "version": "3.7.4"
  }
 },
 "nbformat": 4,
 "nbformat_minor": 4
}
